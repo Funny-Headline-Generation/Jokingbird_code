{
 "cells": [
  {
   "cell_type": "code",
   "execution_count": 1,
   "metadata": {},
   "outputs": [],
   "source": [
    "import pandas as pd\n",
    "import os"
   ]
  },
  {
   "cell_type": "code",
   "execution_count": 3,
   "metadata": {},
   "outputs": [
    {
     "name": "stdout",
     "output_type": "stream",
     "text": [
      "thousand_lines_bert_humedit_right_thresh.xlsx\n",
      "thousand_lines_bert_jokes_right_thresh.xlsx\n",
      "thousand_lines_colloc_right_thresh.xlsx\n",
      "thousand_lines_jokecolloc_right_thresh.xlsx\n"
     ]
    }
   ],
   "source": [
    "for f in os.listdir():\n",
    "    if \"right_thresh\" in f and f.endswith(\".xlsx\"):\n",
    "        print(f)"
   ]
  },
  {
   "cell_type": "code",
   "execution_count": 7,
   "metadata": {},
   "outputs": [
    {
     "name": "stdout",
     "output_type": "stream",
     "text": [
      " \n",
      " Hello \n",
      " \n"
     ]
    }
   ],
   "source": [
    "print(' \\n Hello \\n ')"
   ]
  },
  {
   "cell_type": "code",
   "execution_count": 8,
   "metadata": {},
   "outputs": [
    {
     "name": "stdout",
     "output_type": "stream",
     "text": [
      "Hello\n"
     ]
    }
   ],
   "source": [
    "print(' \\n Hello \\n '.strip())"
   ]
  },
  {
   "cell_type": "code",
   "execution_count": 2,
   "metadata": {},
   "outputs": [],
   "source": [
    "def len_non_empty(l):\n",
    "    s = 0\n",
    "    for elem in l:\n",
    "        if type(elem) == str:\n",
    "            if elem.strip():\n",
    "                s += 1\n",
    "    return s\n",
    "\n",
    "def is_non_empty(elem):\n",
    "    if type(elem) == str:\n",
    "        if elem.strip():\n",
    "            return True\n",
    "    return False"
   ]
  },
  {
   "cell_type": "code",
   "execution_count": 3,
   "metadata": {},
   "outputs": [],
   "source": [
    "def describe_method(method):\n",
    "    df = pd.read_excel(f\"thousand_lines_{method}_right_thresh.xlsx\", engine=\"openpyxl\")\n",
    "    print(len(df))\n",
    "    print(f'Successful sentences: {len_non_empty(df[\"new span\"].tolist())}')\n",
    "    print(f'Average classifier score: {df[\"predicted_score\"].mean()}')\n",
    "    print(f'Standard deviation: {df[\"predicted_score\"].std()}')\n",
    "    print(f'Average classifier score on successful only: {df[df[\"new span\"].apply(is_non_empty)][\"predicted_score\"].mean()}')"
   ]
  },
  {
   "cell_type": "code",
   "execution_count": 4,
   "metadata": {},
   "outputs": [
    {
     "name": "stdout",
     "output_type": "stream",
     "text": [
      "1000\n",
      "Successful sentences: 148\n",
      "Average classifier score: 0.01640706198724575\n",
      "Standard deviation: 0.11512138976298461\n",
      "Average classifier score on successful only: 0.03297208119739492\n"
     ]
    }
   ],
   "source": [
    "describe_method('jokecolloc')"
   ]
  },
  {
   "cell_type": "code",
   "execution_count": 5,
   "metadata": {},
   "outputs": [
    {
     "name": "stdout",
     "output_type": "stream",
     "text": [
      "1000\n",
      "Successful sentences: 520\n",
      "Average classifier score: 0.019027218167315462\n",
      "Standard deviation: 0.13068875012342415\n",
      "Average classifier score on successful only: 0.02187033391225511\n"
     ]
    }
   ],
   "source": [
    "describe_method('colloc')"
   ]
  },
  {
   "cell_type": "code",
   "execution_count": 6,
   "metadata": {},
   "outputs": [
    {
     "name": "stdout",
     "output_type": "stream",
     "text": [
      "1000\n",
      "Successful sentences: 724\n",
      "Average classifier score: 0.09349578525552966\n",
      "Standard deviation: 0.24076050705371366\n",
      "Average classifier score on successful only: 0.09349578525552966\n"
     ]
    }
   ],
   "source": [
    "describe_method('bert_humedit')"
   ]
  },
  {
   "cell_type": "code",
   "execution_count": 7,
   "metadata": {},
   "outputs": [
    {
     "name": "stdout",
     "output_type": "stream",
     "text": [
      "1000\n",
      "Successful sentences: 636\n",
      "Average classifier score: 0.11376477210901698\n",
      "Standard deviation: 0.2746254193564163\n",
      "Average classifier score on successful only: 0.11376477210901698\n"
     ]
    }
   ],
   "source": [
    "describe_method('bert_jokes')"
   ]
  },
  {
   "cell_type": "code",
   "execution_count": 32,
   "metadata": {},
   "outputs": [
    {
     "data": {
      "text/html": [
       "<div>\n",
       "<style scoped>\n",
       "    .dataframe tbody tr th:only-of-type {\n",
       "        vertical-align: middle;\n",
       "    }\n",
       "\n",
       "    .dataframe tbody tr th {\n",
       "        vertical-align: top;\n",
       "    }\n",
       "\n",
       "    .dataframe thead th {\n",
       "        text-align: right;\n",
       "    }\n",
       "</style>\n",
       "<table border=\"1\" class=\"dataframe\">\n",
       "  <thead>\n",
       "    <tr style=\"text-align: right;\">\n",
       "      <th></th>\n",
       "      <th>Unnamed: 0</th>\n",
       "      <th>Unnamed: 0.1</th>\n",
       "      <th>Unnamed: 0.1.1</th>\n",
       "      <th>id</th>\n",
       "      <th>title</th>\n",
       "      <th>content</th>\n",
       "      <th>source</th>\n",
       "      <th>headline</th>\n",
       "      <th>masked</th>\n",
       "      <th>tokenized</th>\n",
       "      <th>span_index</th>\n",
       "      <th>span</th>\n",
       "      <th>predicted</th>\n",
       "      <th>new span</th>\n",
       "      <th>collocation_strength</th>\n",
       "      <th>semantic_distance</th>\n",
       "      <th>predicted_score</th>\n",
       "    </tr>\n",
       "  </thead>\n",
       "  <tbody>\n",
       "    <tr>\n",
       "      <th>0</th>\n",
       "      <td>103</td>\n",
       "      <td>352419</td>\n",
       "      <td>352484</td>\n",
       "      <td>206931</td>\n",
       "      <td>A politician used the n-word in front of black...</td>\n",
       "      <td>A Florida state senator has stepped ...</td>\n",
       "      <td>AllTheNewsKaggle</td>\n",
       "      <td>A politician used the N-Word in front of black...</td>\n",
       "      <td>A politician used the N - Word in front of bla...</td>\n",
       "      <td>['a_DET', 'politician_NOUN', 'use_VERB', 'the_...</td>\n",
       "      <td>(11,)</td>\n",
       "      <td>('colleague_NOUN',)</td>\n",
       "      <td>A politician used the N - Word in front of bla...</td>\n",
       "      <td>hole_NOUN</td>\n",
       "      <td>5.917710</td>\n",
       "      <td>0.496440</td>\n",
       "      <td>0.999999</td>\n",
       "    </tr>\n",
       "    <tr>\n",
       "      <th>1</th>\n",
       "      <td>784</td>\n",
       "      <td>180705</td>\n",
       "      <td>180768</td>\n",
       "      <td>212833</td>\n",
       "      <td>Alicia Keys is done playing nice. Your phone i...</td>\n",
       "      <td>NEW YORK —  On a cool Manhattan night, ...</td>\n",
       "      <td>AllTheNewsComponentsOne</td>\n",
       "      <td>Alicia Keys is done playing nice. your phone i...</td>\n",
       "      <td>Alicia Keys is done [MASK] nice . your phone i...</td>\n",
       "      <td>['Alicia_PROPN', 'Keys_PROPN', 'be_AUX', 'do_V...</td>\n",
       "      <td>(4,)</td>\n",
       "      <td>('play_VERB',)</td>\n",
       "      <td>Alicia Keys is done pulling nice . your phone ...</td>\n",
       "      <td>pull_VERB</td>\n",
       "      <td>3.778722</td>\n",
       "      <td>0.405987</td>\n",
       "      <td>0.999997</td>\n",
       "    </tr>\n",
       "    <tr>\n",
       "      <th>2</th>\n",
       "      <td>348</td>\n",
       "      <td>185979</td>\n",
       "      <td>186042</td>\n",
       "      <td>219037</td>\n",
       "      <td>breath.aspirate.ether</td>\n",
       "      <td>i.As always, because Wambui Mwangi teaches me,...</td>\n",
       "      <td>AllTheNewsComponentsOne</td>\n",
       "      <td>Breath.Aspirate.Ether</td>\n",
       "      <td>Breath . [MASK] . Ether</td>\n",
       "      <td>['breath_NOUN', '._PUNCT', 'Aspirate_PROPN', '...</td>\n",
       "      <td>(2,)</td>\n",
       "      <td>('Aspirate_PROPN',)</td>\n",
       "      <td>Breath.Aspirate.Ether</td>\n",
       "      <td>NaN</td>\n",
       "      <td>NaN</td>\n",
       "      <td>NaN</td>\n",
       "      <td>0.999509</td>\n",
       "    </tr>\n",
       "    <tr>\n",
       "      <th>3</th>\n",
       "      <td>85</td>\n",
       "      <td>350691</td>\n",
       "      <td>350756</td>\n",
       "      <td>204781</td>\n",
       "      <td>My partner and I have $120,000 in student debt...</td>\n",
       "      <td>As many young couples do, my boyfriend an...</td>\n",
       "      <td>AllTheNewsKaggle</td>\n",
       "      <td>My partner and I have$ 120,000 in student debt...</td>\n",
       "      <td>My partner and I have$ 120,000 in student debt...</td>\n",
       "      <td>['my_PRON', 'partner_NOUN', 'and_CCONJ', 'I_PR...</td>\n",
       "      <td>(13,)</td>\n",
       "      <td>('how_ADV',)</td>\n",
       "      <td>My partner and I have$ 120,000 in student debt...</td>\n",
       "      <td>permanently_ADV</td>\n",
       "      <td>3.016068</td>\n",
       "      <td>0.481174</td>\n",
       "      <td>0.995620</td>\n",
       "    </tr>\n",
       "    <tr>\n",
       "      <th>4</th>\n",
       "      <td>889</td>\n",
       "      <td>270253</td>\n",
       "      <td>270316</td>\n",
       "      <td>75579</td>\n",
       "      <td>Do the Syria Strikes Mean North Korea Is Next?</td>\n",
       "      <td>“The message that any nation can take is if yo...</td>\n",
       "      <td>AllTheNewsKaggle</td>\n",
       "      <td>Do the Syria strikes mean North Korea is next?</td>\n",
       "      <td>Do the Syria strikes [MASK] North Korea is next ?</td>\n",
       "      <td>['do_AUX', 'the_DET', 'Syria_PROPN', 'strike_N...</td>\n",
       "      <td>(4,)</td>\n",
       "      <td>('mean_VERB',)</td>\n",
       "      <td>Do the Syria strikes open North Korea is next ?</td>\n",
       "      <td>open_VERB</td>\n",
       "      <td>4.890946</td>\n",
       "      <td>0.474130</td>\n",
       "      <td>0.993373</td>\n",
       "    </tr>\n",
       "    <tr>\n",
       "      <th>...</th>\n",
       "      <td>...</td>\n",
       "      <td>...</td>\n",
       "      <td>...</td>\n",
       "      <td>...</td>\n",
       "      <td>...</td>\n",
       "      <td>...</td>\n",
       "      <td>...</td>\n",
       "      <td>...</td>\n",
       "      <td>...</td>\n",
       "      <td>...</td>\n",
       "      <td>...</td>\n",
       "      <td>...</td>\n",
       "      <td>...</td>\n",
       "      <td>...</td>\n",
       "      <td>...</td>\n",
       "      <td>...</td>\n",
       "      <td>...</td>\n",
       "    </tr>\n",
       "    <tr>\n",
       "      <th>995</th>\n",
       "      <td>984</td>\n",
       "      <td>8297</td>\n",
       "      <td>8357</td>\n",
       "      <td>13181</td>\n",
       "      <td>Trump Declares Opioid Crisis a ‘Health Emergen...</td>\n",
       "      <td>WASHINGTON — President Trump on Thursday direc...</td>\n",
       "      <td>Times</td>\n",
       "      <td>Trump declares Opioid crisis a ‘ health emerge...</td>\n",
       "      <td>NaN</td>\n",
       "      <td>NaN</td>\n",
       "      <td>NaN</td>\n",
       "      <td>NaN</td>\n",
       "      <td>NaN</td>\n",
       "      <td>NaN</td>\n",
       "      <td>NaN</td>\n",
       "      <td>NaN</td>\n",
       "      <td>NaN</td>\n",
       "    </tr>\n",
       "    <tr>\n",
       "      <th>996</th>\n",
       "      <td>994</td>\n",
       "      <td>11432</td>\n",
       "      <td>11492</td>\n",
       "      <td>18242</td>\n",
       "      <td>Trump to Announce Carrier Plant Will Keep Jobs...</td>\n",
       "      <td>From the earliest days of his campaign, Donald...</td>\n",
       "      <td>Times</td>\n",
       "      <td>Trump to announce carrier plant will keep jobs...</td>\n",
       "      <td>NaN</td>\n",
       "      <td>NaN</td>\n",
       "      <td>NaN</td>\n",
       "      <td>NaN</td>\n",
       "      <td>NaN</td>\n",
       "      <td>NaN</td>\n",
       "      <td>NaN</td>\n",
       "      <td>NaN</td>\n",
       "      <td>NaN</td>\n",
       "    </tr>\n",
       "    <tr>\n",
       "      <th>997</th>\n",
       "      <td>997</td>\n",
       "      <td>211602</td>\n",
       "      <td>211665</td>\n",
       "      <td>256195</td>\n",
       "      <td>John Kelly Pins Civil War on a ‘Lack of Abilit...</td>\n",
       "      <td>If, by appearing on Laura Ingraham’s show on M...</td>\n",
       "      <td>AllTheNewsComponentsOne</td>\n",
       "      <td>John Kelly pins Civil war on a ‘ lack of abili...</td>\n",
       "      <td>NaN</td>\n",
       "      <td>NaN</td>\n",
       "      <td>NaN</td>\n",
       "      <td>NaN</td>\n",
       "      <td>NaN</td>\n",
       "      <td>NaN</td>\n",
       "      <td>NaN</td>\n",
       "      <td>NaN</td>\n",
       "      <td>NaN</td>\n",
       "    </tr>\n",
       "    <tr>\n",
       "      <th>998</th>\n",
       "      <td>998</td>\n",
       "      <td>197546</td>\n",
       "      <td>197609</td>\n",
       "      <td>232516</td>\n",
       "      <td>Murray Hill, Manhattan: Where the Old and New ...</td>\n",
       "      <td>Murray Hill is a fast-growing area where many ...</td>\n",
       "      <td>AllTheNewsComponentsOne</td>\n",
       "      <td>Murray Hill, Manhattan: where the old and new ...</td>\n",
       "      <td>NaN</td>\n",
       "      <td>NaN</td>\n",
       "      <td>NaN</td>\n",
       "      <td>NaN</td>\n",
       "      <td>NaN</td>\n",
       "      <td>NaN</td>\n",
       "      <td>NaN</td>\n",
       "      <td>NaN</td>\n",
       "      <td>NaN</td>\n",
       "    </tr>\n",
       "    <tr>\n",
       "      <th>999</th>\n",
       "      <td>999</td>\n",
       "      <td>231476</td>\n",
       "      <td>231539</td>\n",
       "      <td>31585</td>\n",
       "      <td>Donald Trump Celebrates House Vote for Obamaca...</td>\n",
       "      <td>President Donald Trump celebrated the House vo...</td>\n",
       "      <td>AllTheNewsKaggle</td>\n",
       "      <td>Donald Trump celebrates House vote for Obamaca...</td>\n",
       "      <td>NaN</td>\n",
       "      <td>NaN</td>\n",
       "      <td>NaN</td>\n",
       "      <td>NaN</td>\n",
       "      <td>NaN</td>\n",
       "      <td>NaN</td>\n",
       "      <td>NaN</td>\n",
       "      <td>NaN</td>\n",
       "      <td>NaN</td>\n",
       "    </tr>\n",
       "  </tbody>\n",
       "</table>\n",
       "<p>1000 rows × 17 columns</p>\n",
       "</div>"
      ],
      "text/plain": [
       "     Unnamed: 0  Unnamed: 0.1  Unnamed: 0.1.1      id  \\\n",
       "0           103        352419          352484  206931   \n",
       "1           784        180705          180768  212833   \n",
       "2           348        185979          186042  219037   \n",
       "3            85        350691          350756  204781   \n",
       "4           889        270253          270316   75579   \n",
       "..          ...           ...             ...     ...   \n",
       "995         984          8297            8357   13181   \n",
       "996         994         11432           11492   18242   \n",
       "997         997        211602          211665  256195   \n",
       "998         998        197546          197609  232516   \n",
       "999         999        231476          231539   31585   \n",
       "\n",
       "                                                 title  \\\n",
       "0    A politician used the n-word in front of black...   \n",
       "1    Alicia Keys is done playing nice. Your phone i...   \n",
       "2                                breath.aspirate.ether   \n",
       "3    My partner and I have $120,000 in student debt...   \n",
       "4       Do the Syria Strikes Mean North Korea Is Next?   \n",
       "..                                                 ...   \n",
       "995  Trump Declares Opioid Crisis a ‘Health Emergen...   \n",
       "996  Trump to Announce Carrier Plant Will Keep Jobs...   \n",
       "997  John Kelly Pins Civil War on a ‘Lack of Abilit...   \n",
       "998  Murray Hill, Manhattan: Where the Old and New ...   \n",
       "999  Donald Trump Celebrates House Vote for Obamaca...   \n",
       "\n",
       "                                               content  \\\n",
       "0              A Florida state senator has stepped ...   \n",
       "1           NEW YORK —  On a cool Manhattan night, ...   \n",
       "2    i.As always, because Wambui Mwangi teaches me,...   \n",
       "3         As many young couples do, my boyfriend an...   \n",
       "4    “The message that any nation can take is if yo...   \n",
       "..                                                 ...   \n",
       "995  WASHINGTON — President Trump on Thursday direc...   \n",
       "996  From the earliest days of his campaign, Donald...   \n",
       "997  If, by appearing on Laura Ingraham’s show on M...   \n",
       "998  Murray Hill is a fast-growing area where many ...   \n",
       "999  President Donald Trump celebrated the House vo...   \n",
       "\n",
       "                      source  \\\n",
       "0           AllTheNewsKaggle   \n",
       "1    AllTheNewsComponentsOne   \n",
       "2    AllTheNewsComponentsOne   \n",
       "3           AllTheNewsKaggle   \n",
       "4           AllTheNewsKaggle   \n",
       "..                       ...   \n",
       "995                    Times   \n",
       "996                    Times   \n",
       "997  AllTheNewsComponentsOne   \n",
       "998  AllTheNewsComponentsOne   \n",
       "999         AllTheNewsKaggle   \n",
       "\n",
       "                                              headline  \\\n",
       "0    A politician used the N-Word in front of black...   \n",
       "1    Alicia Keys is done playing nice. your phone i...   \n",
       "2                                Breath.Aspirate.Ether   \n",
       "3    My partner and I have$ 120,000 in student debt...   \n",
       "4       Do the Syria strikes mean North Korea is next?   \n",
       "..                                                 ...   \n",
       "995  Trump declares Opioid crisis a ‘ health emerge...   \n",
       "996  Trump to announce carrier plant will keep jobs...   \n",
       "997  John Kelly pins Civil war on a ‘ lack of abili...   \n",
       "998  Murray Hill, Manhattan: where the old and new ...   \n",
       "999  Donald Trump celebrates House vote for Obamaca...   \n",
       "\n",
       "                                                masked  \\\n",
       "0    A politician used the N - Word in front of bla...   \n",
       "1    Alicia Keys is done [MASK] nice . your phone i...   \n",
       "2                              Breath . [MASK] . Ether   \n",
       "3    My partner and I have$ 120,000 in student debt...   \n",
       "4    Do the Syria strikes [MASK] North Korea is next ?   \n",
       "..                                                 ...   \n",
       "995                                                NaN   \n",
       "996                                                NaN   \n",
       "997                                                NaN   \n",
       "998                                                NaN   \n",
       "999                                                NaN   \n",
       "\n",
       "                                             tokenized span_index  \\\n",
       "0    ['a_DET', 'politician_NOUN', 'use_VERB', 'the_...      (11,)   \n",
       "1    ['Alicia_PROPN', 'Keys_PROPN', 'be_AUX', 'do_V...       (4,)   \n",
       "2    ['breath_NOUN', '._PUNCT', 'Aspirate_PROPN', '...       (2,)   \n",
       "3    ['my_PRON', 'partner_NOUN', 'and_CCONJ', 'I_PR...      (13,)   \n",
       "4    ['do_AUX', 'the_DET', 'Syria_PROPN', 'strike_N...       (4,)   \n",
       "..                                                 ...        ...   \n",
       "995                                                NaN        NaN   \n",
       "996                                                NaN        NaN   \n",
       "997                                                NaN        NaN   \n",
       "998                                                NaN        NaN   \n",
       "999                                                NaN        NaN   \n",
       "\n",
       "                    span                                          predicted  \\\n",
       "0    ('colleague_NOUN',)  A politician used the N - Word in front of bla...   \n",
       "1         ('play_VERB',)  Alicia Keys is done pulling nice . your phone ...   \n",
       "2    ('Aspirate_PROPN',)                              Breath.Aspirate.Ether   \n",
       "3           ('how_ADV',)  My partner and I have$ 120,000 in student debt...   \n",
       "4         ('mean_VERB',)    Do the Syria strikes open North Korea is next ?   \n",
       "..                   ...                                                ...   \n",
       "995                  NaN                                                NaN   \n",
       "996                  NaN                                                NaN   \n",
       "997                  NaN                                                NaN   \n",
       "998                  NaN                                                NaN   \n",
       "999                  NaN                                                NaN   \n",
       "\n",
       "            new span  collocation_strength  semantic_distance  predicted_score  \n",
       "0          hole_NOUN              5.917710           0.496440         0.999999  \n",
       "1          pull_VERB              3.778722           0.405987         0.999997  \n",
       "2                NaN                   NaN                NaN         0.999509  \n",
       "3    permanently_ADV              3.016068           0.481174         0.995620  \n",
       "4          open_VERB              4.890946           0.474130         0.993373  \n",
       "..               ...                   ...                ...              ...  \n",
       "995              NaN                   NaN                NaN              NaN  \n",
       "996              NaN                   NaN                NaN              NaN  \n",
       "997              NaN                   NaN                NaN              NaN  \n",
       "998              NaN                   NaN                NaN              NaN  \n",
       "999              NaN                   NaN                NaN              NaN  \n",
       "\n",
       "[1000 rows x 17 columns]"
      ]
     },
     "execution_count": 32,
     "metadata": {},
     "output_type": "execute_result"
    }
   ],
   "source": [
    "pd.read_excel(f\"thousand_lines_colloc_right_thresh.xlsx\", engine=\"openpyxl\")"
   ]
  },
  {
   "cell_type": "code",
   "execution_count": 33,
   "metadata": {},
   "outputs": [
    {
     "data": {
      "text/plain": [
       "['funlines', 'humicroedit', 'unfunme']"
      ]
     },
     "execution_count": 33,
     "metadata": {},
     "output_type": "execute_result"
    }
   ],
   "source": [
    "os.listdir(\"../data\")"
   ]
  },
  {
   "cell_type": "code",
   "execution_count": 47,
   "metadata": {},
   "outputs": [],
   "source": [
    "joke_corpus = pd.read_csv(\"../joke_corpus/short_jokes_train.tsv\",\n",
    "                         header=None)"
   ]
  },
  {
   "cell_type": "code",
   "execution_count": 48,
   "metadata": {},
   "outputs": [
    {
     "data": {
      "text/html": [
       "<div>\n",
       "<style scoped>\n",
       "    .dataframe tbody tr th:only-of-type {\n",
       "        vertical-align: middle;\n",
       "    }\n",
       "\n",
       "    .dataframe tbody tr th {\n",
       "        vertical-align: top;\n",
       "    }\n",
       "\n",
       "    .dataframe thead th {\n",
       "        text-align: right;\n",
       "    }\n",
       "</style>\n",
       "<table border=\"1\" class=\"dataframe\">\n",
       "  <thead>\n",
       "    <tr style=\"text-align: right;\">\n",
       "      <th></th>\n",
       "      <th>0</th>\n",
       "      <th>1</th>\n",
       "      <th>2</th>\n",
       "      <th>3</th>\n",
       "    </tr>\n",
       "  </thead>\n",
       "  <tbody>\n",
       "    <tr>\n",
       "      <th>0</th>\n",
       "      <td>0</td>\n",
       "      <td>0</td>\n",
       "      <td>a</td>\n",
       "      <td>today one kasparov aide reportedly said she wa...</td>\n",
       "    </tr>\n",
       "    <tr>\n",
       "      <th>1</th>\n",
       "      <td>1</td>\n",
       "      <td>1</td>\n",
       "      <td>a</td>\n",
       "      <td>im scared of trampolines they make me jump.</td>\n",
       "    </tr>\n",
       "    <tr>\n",
       "      <th>2</th>\n",
       "      <td>2</td>\n",
       "      <td>0</td>\n",
       "      <td>a</td>\n",
       "      <td>white house officials say bush personally noti...</td>\n",
       "    </tr>\n",
       "    <tr>\n",
       "      <th>3</th>\n",
       "      <td>3</td>\n",
       "      <td>0</td>\n",
       "      <td>a</td>\n",
       "      <td>ms. callaghan’s latest play lascivious somethi...</td>\n",
       "    </tr>\n",
       "    <tr>\n",
       "      <th>4</th>\n",
       "      <td>4</td>\n",
       "      <td>0</td>\n",
       "      <td>a</td>\n",
       "      <td>the good thing now is we have the farm system ...</td>\n",
       "    </tr>\n",
       "  </tbody>\n",
       "</table>\n",
       "</div>"
      ],
      "text/plain": [
       "   0  1  2                                                  3\n",
       "0  0  0  a  today one kasparov aide reportedly said she wa...\n",
       "1  1  1  a        im scared of trampolines they make me jump.\n",
       "2  2  0  a  white house officials say bush personally noti...\n",
       "3  3  0  a  ms. callaghan’s latest play lascivious somethi...\n",
       "4  4  0  a  the good thing now is we have the farm system ..."
      ]
     },
     "execution_count": 48,
     "metadata": {},
     "output_type": "execute_result"
    }
   ],
   "source": [
    "joke_corpus.head()"
   ]
  },
  {
   "cell_type": "code",
   "execution_count": 52,
   "metadata": {},
   "outputs": [
    {
     "data": {
      "text/plain": [
       "0    173851\n",
       "1    173635\n",
       "Name: 1, dtype: int64"
      ]
     },
     "execution_count": 52,
     "metadata": {},
     "output_type": "execute_result"
    }
   ],
   "source": [
    "joke_corpus[1].value_counts()"
   ]
  },
  {
   "cell_type": "code",
   "execution_count": 53,
   "metadata": {},
   "outputs": [
    {
     "data": {
      "text/plain": [
       "a    347486\n",
       "Name: 2, dtype: int64"
      ]
     },
     "execution_count": 53,
     "metadata": {},
     "output_type": "execute_result"
    }
   ],
   "source": [
    "joke_corpus[2].value_counts()"
   ]
  },
  {
   "cell_type": "code",
   "execution_count": null,
   "metadata": {},
   "outputs": [],
   "source": []
  }
 ],
 "metadata": {
  "kernelspec": {
   "display_name": "Python 3",
   "language": "python",
   "name": "python3"
  },
  "language_info": {
   "codemirror_mode": {
    "name": "ipython",
    "version": 3
   },
   "file_extension": ".py",
   "mimetype": "text/x-python",
   "name": "python",
   "nbconvert_exporter": "python",
   "pygments_lexer": "ipython3",
   "version": "3.7.3"
  }
 },
 "nbformat": 4,
 "nbformat_minor": 4
}
