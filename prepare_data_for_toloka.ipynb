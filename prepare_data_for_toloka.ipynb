{
 "cells": [
  {
   "cell_type": "code",
   "execution_count": 1,
   "metadata": {},
   "outputs": [],
   "source": [
    "import pandas as pd"
   ]
  },
  {
   "cell_type": "code",
   "execution_count": 3,
   "metadata": {},
   "outputs": [],
   "source": [
    "df = pd.read_excel(\"thousand_lines_bert_humedit_right_thresh.xlsx\", engine=\"openpyxl\")"
   ]
  },
  {
   "cell_type": "code",
   "execution_count": 4,
   "metadata": {},
   "outputs": [
    {
     "data": {
      "text/html": [
       "<div>\n",
       "<style scoped>\n",
       "    .dataframe tbody tr th:only-of-type {\n",
       "        vertical-align: middle;\n",
       "    }\n",
       "\n",
       "    .dataframe tbody tr th {\n",
       "        vertical-align: top;\n",
       "    }\n",
       "\n",
       "    .dataframe thead th {\n",
       "        text-align: right;\n",
       "    }\n",
       "</style>\n",
       "<table border=\"1\" class=\"dataframe\">\n",
       "  <thead>\n",
       "    <tr style=\"text-align: right;\">\n",
       "      <th></th>\n",
       "      <th>Unnamed: 0</th>\n",
       "      <th>Unnamed: 0.1</th>\n",
       "      <th>Unnamed: 0.1.1</th>\n",
       "      <th>id</th>\n",
       "      <th>title</th>\n",
       "      <th>content</th>\n",
       "      <th>source</th>\n",
       "      <th>headline</th>\n",
       "      <th>masked</th>\n",
       "      <th>tokenized</th>\n",
       "      <th>span_index</th>\n",
       "      <th>span</th>\n",
       "      <th>predicted</th>\n",
       "      <th>new span</th>\n",
       "      <th>predicted_score</th>\n",
       "    </tr>\n",
       "  </thead>\n",
       "  <tbody>\n",
       "    <tr>\n",
       "      <th>0</th>\n",
       "      <td>103</td>\n",
       "      <td>352419</td>\n",
       "      <td>352484</td>\n",
       "      <td>206931</td>\n",
       "      <td>A politician used the n-word in front of black...</td>\n",
       "      <td>A Florida state senator has stepped ...</td>\n",
       "      <td>AllTheNewsKaggle</td>\n",
       "      <td>A politician used the N-Word in front of black...</td>\n",
       "      <td>A politician used the N - Word in front of bla...</td>\n",
       "      <td>['a_DET', 'politician_NOUN', 'use_VERB', 'the_...</td>\n",
       "      <td>(11,)</td>\n",
       "      <td>('colleague_NOUN',)</td>\n",
       "      <td>A politician used the N - Word in front of bla...</td>\n",
       "      <td>sheep</td>\n",
       "      <td>0.999951</td>\n",
       "    </tr>\n",
       "    <tr>\n",
       "      <th>1</th>\n",
       "      <td>784</td>\n",
       "      <td>180705</td>\n",
       "      <td>180768</td>\n",
       "      <td>212833</td>\n",
       "      <td>Alicia Keys is done playing nice. Your phone i...</td>\n",
       "      <td>NEW YORK —  On a cool Manhattan night, ...</td>\n",
       "      <td>AllTheNewsComponentsOne</td>\n",
       "      <td>Alicia Keys is done playing nice. your phone i...</td>\n",
       "      <td>Alicia Keys is done playing [MASK] . your phon...</td>\n",
       "      <td>['Alicia_PROPN', 'Keys_PROPN', 'be_AUX', 'do_V...</td>\n",
       "      <td>(5,)</td>\n",
       "      <td>('nice_ADJ',)</td>\n",
       "      <td>Alicia Keys is done playing bingo . your phone...</td>\n",
       "      <td>bingo</td>\n",
       "      <td>0.999843</td>\n",
       "    </tr>\n",
       "    <tr>\n",
       "      <th>2</th>\n",
       "      <td>785</td>\n",
       "      <td>129532</td>\n",
       "      <td>129594</td>\n",
       "      <td>143206</td>\n",
       "      <td>Rio has turned Hope Solo into public enemy No. 1</td>\n",
       "      <td>The women’s Olympic soccer tournament is movin...</td>\n",
       "      <td>AllTheNewsComponentsOne</td>\n",
       "      <td>Rio has turned hope solo into public enemy no. 1</td>\n",
       "      <td>Rio has turned hope solo into public enemy [MA...</td>\n",
       "      <td>['Rio_PROPN', 'have_AUX', 'turn_VERB', 'hope_N...</td>\n",
       "      <td>(8,)</td>\n",
       "      <td>('no_INTJ',)</td>\n",
       "      <td>Rio has turned hope solo into public enemy chi...</td>\n",
       "      <td>chihuahua</td>\n",
       "      <td>0.999743</td>\n",
       "    </tr>\n",
       "    <tr>\n",
       "      <th>3</th>\n",
       "      <td>782</td>\n",
       "      <td>143664</td>\n",
       "      <td>143726</td>\n",
       "      <td>163896</td>\n",
       "      <td>Is This Going To Make Me A Different Person? G...</td>\n",
       "      <td>[When you're facing a major life change, it he...</td>\n",
       "      <td>AllTheNewsComponentsOne</td>\n",
       "      <td>Is this going to make me a different person? g...</td>\n",
       "      <td>Is this going to make me a different person ? ...</td>\n",
       "      <td>['be_AUX', 'this_DET', 'go_VERB', 'to_PART', '...</td>\n",
       "      <td>(11,)</td>\n",
       "      <td>('transition_NOUN',)</td>\n",
       "      <td>Is this going to make me a different person ? ...</td>\n",
       "      <td>monkey</td>\n",
       "      <td>0.999713</td>\n",
       "    </tr>\n",
       "    <tr>\n",
       "      <th>4</th>\n",
       "      <td>524</td>\n",
       "      <td>345313</td>\n",
       "      <td>345378</td>\n",
       "      <td>195762</td>\n",
       "      <td>British Prime Minister Theresa May just told t...</td>\n",
       "      <td>In her first major speech outlining London’s ...</td>\n",
       "      <td>AllTheNewsKaggle</td>\n",
       "      <td>British Prime Minister Theresa may just told t...</td>\n",
       "      <td>British Prime Minister Theresa may just [MASK]...</td>\n",
       "      <td>['british_ADJ', 'Prime_PROPN', 'Minister_PROPN...</td>\n",
       "      <td>(6,)</td>\n",
       "      <td>('tell_VERB',)</td>\n",
       "      <td>British Prime Minister Theresa may just half t...</td>\n",
       "      <td>half</td>\n",
       "      <td>0.999440</td>\n",
       "    </tr>\n",
       "  </tbody>\n",
       "</table>\n",
       "</div>"
      ],
      "text/plain": [
       "   Unnamed: 0  Unnamed: 0.1  Unnamed: 0.1.1      id  \\\n",
       "0         103        352419          352484  206931   \n",
       "1         784        180705          180768  212833   \n",
       "2         785        129532          129594  143206   \n",
       "3         782        143664          143726  163896   \n",
       "4         524        345313          345378  195762   \n",
       "\n",
       "                                               title  \\\n",
       "0  A politician used the n-word in front of black...   \n",
       "1  Alicia Keys is done playing nice. Your phone i...   \n",
       "2   Rio has turned Hope Solo into public enemy No. 1   \n",
       "3  Is This Going To Make Me A Different Person? G...   \n",
       "4  British Prime Minister Theresa May just told t...   \n",
       "\n",
       "                                             content                   source  \\\n",
       "0            A Florida state senator has stepped ...         AllTheNewsKaggle   \n",
       "1         NEW YORK —  On a cool Manhattan night, ...  AllTheNewsComponentsOne   \n",
       "2  The women’s Olympic soccer tournament is movin...  AllTheNewsComponentsOne   \n",
       "3  [When you're facing a major life change, it he...  AllTheNewsComponentsOne   \n",
       "4   In her first major speech outlining London’s ...         AllTheNewsKaggle   \n",
       "\n",
       "                                            headline  \\\n",
       "0  A politician used the N-Word in front of black...   \n",
       "1  Alicia Keys is done playing nice. your phone i...   \n",
       "2   Rio has turned hope solo into public enemy no. 1   \n",
       "3  Is this going to make me a different person? g...   \n",
       "4  British Prime Minister Theresa may just told t...   \n",
       "\n",
       "                                              masked  \\\n",
       "0  A politician used the N - Word in front of bla...   \n",
       "1  Alicia Keys is done playing [MASK] . your phon...   \n",
       "2  Rio has turned hope solo into public enemy [MA...   \n",
       "3  Is this going to make me a different person ? ...   \n",
       "4  British Prime Minister Theresa may just [MASK]...   \n",
       "\n",
       "                                           tokenized span_index  \\\n",
       "0  ['a_DET', 'politician_NOUN', 'use_VERB', 'the_...      (11,)   \n",
       "1  ['Alicia_PROPN', 'Keys_PROPN', 'be_AUX', 'do_V...       (5,)   \n",
       "2  ['Rio_PROPN', 'have_AUX', 'turn_VERB', 'hope_N...       (8,)   \n",
       "3  ['be_AUX', 'this_DET', 'go_VERB', 'to_PART', '...      (11,)   \n",
       "4  ['british_ADJ', 'Prime_PROPN', 'Minister_PROPN...       (6,)   \n",
       "\n",
       "                   span                                          predicted  \\\n",
       "0   ('colleague_NOUN',)  A politician used the N - Word in front of bla...   \n",
       "1         ('nice_ADJ',)  Alicia Keys is done playing bingo . your phone...   \n",
       "2          ('no_INTJ',)  Rio has turned hope solo into public enemy chi...   \n",
       "3  ('transition_NOUN',)  Is this going to make me a different person ? ...   \n",
       "4        ('tell_VERB',)  British Prime Minister Theresa may just half t...   \n",
       "\n",
       "    new span  predicted_score  \n",
       "0      sheep         0.999951  \n",
       "1      bingo         0.999843  \n",
       "2  chihuahua         0.999743  \n",
       "3     monkey         0.999713  \n",
       "4       half         0.999440  "
      ]
     },
     "execution_count": 4,
     "metadata": {},
     "output_type": "execute_result"
    }
   ],
   "source": [
    "df.head()"
   ]
  },
  {
   "cell_type": "code",
   "execution_count": 5,
   "metadata": {},
   "outputs": [
    {
     "data": {
      "text/html": [
       "<div>\n",
       "<style scoped>\n",
       "    .dataframe tbody tr th:only-of-type {\n",
       "        vertical-align: middle;\n",
       "    }\n",
       "\n",
       "    .dataframe tbody tr th {\n",
       "        vertical-align: top;\n",
       "    }\n",
       "\n",
       "    .dataframe thead th {\n",
       "        text-align: right;\n",
       "    }\n",
       "</style>\n",
       "<table border=\"1\" class=\"dataframe\">\n",
       "  <thead>\n",
       "    <tr style=\"text-align: right;\">\n",
       "      <th></th>\n",
       "      <th>Unnamed: 0</th>\n",
       "      <th>Unnamed: 0.1</th>\n",
       "      <th>Unnamed: 0.1.1</th>\n",
       "      <th>id</th>\n",
       "      <th>title</th>\n",
       "      <th>content</th>\n",
       "      <th>source</th>\n",
       "      <th>headline</th>\n",
       "      <th>masked</th>\n",
       "      <th>tokenized</th>\n",
       "      <th>span_index</th>\n",
       "      <th>span</th>\n",
       "      <th>predicted</th>\n",
       "      <th>new span</th>\n",
       "      <th>predicted_score</th>\n",
       "    </tr>\n",
       "  </thead>\n",
       "  <tbody>\n",
       "  </tbody>\n",
       "</table>\n",
       "</div>"
      ],
      "text/plain": [
       "Empty DataFrame\n",
       "Columns: [Unnamed: 0, Unnamed: 0.1, Unnamed: 0.1.1, id, title, content, source, headline, masked, tokenized, span_index, span, predicted, new span, predicted_score]\n",
       "Index: []"
      ]
     },
     "execution_count": 5,
     "metadata": {},
     "output_type": "execute_result"
    }
   ],
   "source": [
    "df[df['new span'] == '']"
   ]
  },
  {
   "cell_type": "code",
   "execution_count": 12,
   "metadata": {},
   "outputs": [],
   "source": [
    "headlines = [headline for headline in df.dropna(subset=[\"new span\"])[\"predicted\"]]"
   ]
  },
  {
   "cell_type": "code",
   "execution_count": 13,
   "metadata": {},
   "outputs": [
    {
     "data": {
      "text/plain": [
       "724"
      ]
     },
     "execution_count": 13,
     "metadata": {},
     "output_type": "execute_result"
    }
   ],
   "source": [
    "len(headlines)"
   ]
  },
  {
   "cell_type": "markdown",
   "metadata": {},
   "source": [
    "Проверим, остались ли слова, на тему которых шутить нельзя:"
   ]
  },
  {
   "cell_type": "code",
   "execution_count": 25,
   "metadata": {},
   "outputs": [],
   "source": [
    "stop_words = [\"christ\",\"crucifix\",\"church\",\"pastor\",\"priest\",\n",
    "              \"god \",\"islam\",\"muslim\",\"mullah\",\"rabbi \",\"jew\",\"mosque\",\"synagogue\",\"hebrew\",\n",
    "              \"sex\",\"rape\",\"rapist\",\"kill\",\"hurrican\",\"jihad\",\"terror\"\n",
    "             \"murder\",\"victim\",\"shoot\",\"die\",\"death\",\"genocide\",\n",
    "             \"homicid\",\"suicid\",\"violence\",\"shoot\",\"tortur\",\"slave\",\n",
    "             \"pedophil\",\"maniac\",\"racist\",\"racism\",\"feminism\",\"feminist\",\n",
    "             \"black lives matter\",\"hate\",\"assassin\",\"death\",\"immigrant\",\"immigration\",\n",
    "             \"holocaust\",\"surviv\",\"attack\",\"accident\",\"protest\",\"shot\",\"gun\",\"molest\",\n",
    "             \"abus\",\"harass\",\"alive\",\"bible\",\"jesus\",\"burial\",\"buried\", \" bury\", \"funeral\"]"
   ]
  },
  {
   "cell_type": "code",
   "execution_count": 26,
   "metadata": {},
   "outputs": [
    {
     "data": {
      "text/plain": [
       "['Didi Gregorius keeps getting better — and just weaker buried',\n",
       " 'People are going to prison thanks to jesus software — but how it works is secret']"
      ]
     },
     "execution_count": 26,
     "metadata": {},
     "output_type": "execute_result"
    }
   ],
   "source": [
    "[headline for headline in headlines if sum([stop_word in headline for stop_word in stop_words])>0]"
   ]
  },
  {
   "cell_type": "markdown",
   "metadata": {},
   "source": [
    "Оставим только то, насчёт чего шутить можно:"
   ]
  },
  {
   "cell_type": "code",
   "execution_count": 28,
   "metadata": {},
   "outputs": [],
   "source": [
    "headlines = [headline for headline in headlines if sum([stop_word in headline for stop_word in stop_words])==0]"
   ]
  },
  {
   "cell_type": "code",
   "execution_count": 29,
   "metadata": {},
   "outputs": [],
   "source": [
    "with open(\"bert_humicroedit_headlines_right_thresh.tsv\", \"w\", encoding=\"utf-8\") as outp:\n",
    "    outp.write(\"INPUT:headline\\n\")\n",
    "    for headline in headlines[:-1]:\n",
    "        outp.write(headline.strip('\"')+'\\n')\n",
    "    outp.write(headlines[-1])"
   ]
  },
  {
   "cell_type": "markdown",
   "metadata": {},
   "source": [
    "Возьмём также сабсет из реальных новостей:"
   ]
  },
  {
   "cell_type": "code",
   "execution_count": 3,
   "metadata": {},
   "outputs": [],
   "source": [
    "df_real = pd.read_excel(\"unsupervised_news_truecased.xlsx\", engine=\"openpyxl\").dropna(subset=[\"title_true_case\"])"
   ]
  },
  {
   "cell_type": "code",
   "execution_count": 4,
   "metadata": {},
   "outputs": [],
   "source": [
    "df_subset = df_real.sample(n=20,random_state=42)"
   ]
  },
  {
   "cell_type": "code",
   "execution_count": 5,
   "metadata": {},
   "outputs": [],
   "source": [
    "df_subset.to_csv(\"real_subset.tsv\", sep='\\t')"
   ]
  },
  {
   "cell_type": "markdown",
   "metadata": {},
   "source": [
    "И золотой стандарт (там, где разметка совпала):"
   ]
  },
  {
   "cell_type": "code",
   "execution_count": 4,
   "metadata": {},
   "outputs": [],
   "source": [
    "df_gold = pd.read_excel(\"FullAgreement.xlsx\", engine=\"openpyxl\", index_col=\"Unnamed: 0\").dropna(subset=[\"predicted\"])"
   ]
  },
  {
   "cell_type": "code",
   "execution_count": 5,
   "metadata": {},
   "outputs": [
    {
     "data": {
      "text/html": [
       "<div>\n",
       "<style scoped>\n",
       "    .dataframe tbody tr th:only-of-type {\n",
       "        vertical-align: middle;\n",
       "    }\n",
       "\n",
       "    .dataframe tbody tr th {\n",
       "        vertical-align: top;\n",
       "    }\n",
       "\n",
       "    .dataframe thead th {\n",
       "        text-align: right;\n",
       "    }\n",
       "</style>\n",
       "<table border=\"1\" class=\"dataframe\">\n",
       "  <thead>\n",
       "    <tr style=\"text-align: right;\">\n",
       "      <th></th>\n",
       "      <th>id</th>\n",
       "      <th>title_orig_case</th>\n",
       "      <th>source</th>\n",
       "      <th>headline</th>\n",
       "      <th>masked</th>\n",
       "      <th>predicted</th>\n",
       "      <th>new span</th>\n",
       "      <th>predicted_score</th>\n",
       "      <th>method</th>\n",
       "      <th>Humorousness</th>\n",
       "      <th>Grammaticality</th>\n",
       "      <th>Humorousness_b</th>\n",
       "      <th>Grammaticality_b</th>\n",
       "    </tr>\n",
       "  </thead>\n",
       "  <tbody>\n",
       "    <tr>\n",
       "      <th>7</th>\n",
       "      <td>129372</td>\n",
       "      <td>US ship sent as warning to North Korea was sai...</td>\n",
       "      <td>AllTheNewsKaggle</td>\n",
       "      <td>Us ship sent as warning to North Korea was sai...</td>\n",
       "      <td>Us ship sent as warning to North Korea was sai...</td>\n",
       "      <td>Us ship sent as warning to North Korea was sai...</td>\n",
       "      <td>departed</td>\n",
       "      <td>0.836966</td>\n",
       "      <td>bert_humedit</td>\n",
       "      <td>0</td>\n",
       "      <td>3</td>\n",
       "      <td>0</td>\n",
       "      <td>3</td>\n",
       "    </tr>\n",
       "    <tr>\n",
       "      <th>11</th>\n",
       "      <td>125023</td>\n",
       "      <td>There’s something fishy about this Tribeca tow...</td>\n",
       "      <td>AllTheNewsComponentsOne</td>\n",
       "      <td>There ’ s something Fishy about this Tribeca T...</td>\n",
       "      <td>There ’ s something [MASK] about this Tribeca ...</td>\n",
       "      <td>There ’ s something magical about this Tribeca...</td>\n",
       "      <td>magical</td>\n",
       "      <td>0.000130</td>\n",
       "      <td>bert_humedit</td>\n",
       "      <td>0</td>\n",
       "      <td>3</td>\n",
       "      <td>0</td>\n",
       "      <td>3</td>\n",
       "    </tr>\n",
       "    <tr>\n",
       "      <th>19</th>\n",
       "      <td>119228</td>\n",
       "      <td>Will the Trump Nomination Change Our Polarized...</td>\n",
       "      <td>AllTheNewsKaggle</td>\n",
       "      <td>Will the Trump nomination change our polarized...</td>\n",
       "      <td>Will the Trump nomination change our polarized...</td>\n",
       "      <td>Will the Trump nomination change our polarized...</td>\n",
       "      <td>sleeping</td>\n",
       "      <td>0.000106</td>\n",
       "      <td>bert_humedit</td>\n",
       "      <td>1</td>\n",
       "      <td>3</td>\n",
       "      <td>1</td>\n",
       "      <td>3</td>\n",
       "    </tr>\n",
       "    <tr>\n",
       "      <th>36</th>\n",
       "      <td>171638</td>\n",
       "      <td>Embattled Pennsylvania Attorney General Resign...</td>\n",
       "      <td>AllTheNewsKaggle</td>\n",
       "      <td>Embattled Pennsylvania Attorney General resign...</td>\n",
       "      <td>Embattled Pennsylvania Attorney General [MASK]...</td>\n",
       "      <td>Embattled Pennsylvania Attorney General sacked...</td>\n",
       "      <td>sacked</td>\n",
       "      <td>0.000280</td>\n",
       "      <td>bert_humedit</td>\n",
       "      <td>0</td>\n",
       "      <td>3</td>\n",
       "      <td>0</td>\n",
       "      <td>3</td>\n",
       "    </tr>\n",
       "    <tr>\n",
       "      <th>47</th>\n",
       "      <td>100507</td>\n",
       "      <td>Spy Agencies Around The World Are Digging Int...</td>\n",
       "      <td>AllTheNewsComponentsOne</td>\n",
       "      <td>Spy agencies around the world are digging into...</td>\n",
       "      <td>Spy agencies around the world are digging into...</td>\n",
       "      <td>Spy agencies around the world are digging into...</td>\n",
       "      <td>satan</td>\n",
       "      <td>0.000285</td>\n",
       "      <td>bert_humedit</td>\n",
       "      <td>3</td>\n",
       "      <td>3</td>\n",
       "      <td>3</td>\n",
       "      <td>3</td>\n",
       "    </tr>\n",
       "  </tbody>\n",
       "</table>\n",
       "</div>"
      ],
      "text/plain": [
       "        id                                    title_orig_case  \\\n",
       "7   129372  US ship sent as warning to North Korea was sai...   \n",
       "11  125023  There’s something fishy about this Tribeca tow...   \n",
       "19  119228  Will the Trump Nomination Change Our Polarized...   \n",
       "36  171638  Embattled Pennsylvania Attorney General Resign...   \n",
       "47  100507   Spy Agencies Around The World Are Digging Int...   \n",
       "\n",
       "                     source  \\\n",
       "7          AllTheNewsKaggle   \n",
       "11  AllTheNewsComponentsOne   \n",
       "19         AllTheNewsKaggle   \n",
       "36         AllTheNewsKaggle   \n",
       "47  AllTheNewsComponentsOne   \n",
       "\n",
       "                                             headline  \\\n",
       "7   Us ship sent as warning to North Korea was sai...   \n",
       "11  There ’ s something Fishy about this Tribeca T...   \n",
       "19  Will the Trump nomination change our polarized...   \n",
       "36  Embattled Pennsylvania Attorney General resign...   \n",
       "47  Spy agencies around the world are digging into...   \n",
       "\n",
       "                                               masked  \\\n",
       "7   Us ship sent as warning to North Korea was sai...   \n",
       "11  There ’ s something [MASK] about this Tribeca ...   \n",
       "19  Will the Trump nomination change our polarized...   \n",
       "36  Embattled Pennsylvania Attorney General [MASK]...   \n",
       "47  Spy agencies around the world are digging into...   \n",
       "\n",
       "                                            predicted  new span  \\\n",
       "7   Us ship sent as warning to North Korea was sai...  departed   \n",
       "11  There ’ s something magical about this Tribeca...   magical   \n",
       "19  Will the Trump nomination change our polarized...  sleeping   \n",
       "36  Embattled Pennsylvania Attorney General sacked...    sacked   \n",
       "47  Spy agencies around the world are digging into...     satan   \n",
       "\n",
       "    predicted_score        method  Humorousness  Grammaticality  \\\n",
       "7          0.836966  bert_humedit             0               3   \n",
       "11         0.000130  bert_humedit             0               3   \n",
       "19         0.000106  bert_humedit             1               3   \n",
       "36         0.000280  bert_humedit             0               3   \n",
       "47         0.000285  bert_humedit             3               3   \n",
       "\n",
       "    Humorousness_b  Grammaticality_b  \n",
       "7                0                 3  \n",
       "11               0                 3  \n",
       "19               1                 3  \n",
       "36               0                 3  \n",
       "47               3                 3  "
      ]
     },
     "execution_count": 5,
     "metadata": {},
     "output_type": "execute_result"
    }
   ],
   "source": [
    "df_gold.head()"
   ]
  },
  {
   "cell_type": "code",
   "execution_count": 7,
   "metadata": {},
   "outputs": [],
   "source": [
    "with open(\"gold_standard.tsv\", \"w\", encoding=\"utf-8\") as outp:\n",
    "    outp.write(\"INPUT:headline\\tGOLDEN:hum\\tGOLDEN:gram\")\n",
    "    for index, row in df_gold.iterrows():\n",
    "        outp.write('\\n')\n",
    "        item = row['predicted']\n",
    "        hum = row['Humorousness']\n",
    "        gram = row['Grammaticality']\n",
    "        outp.write(f\"{item}\\t{hum}\\t{gram}\")"
   ]
  },
  {
   "cell_type": "code",
   "execution_count": null,
   "metadata": {},
   "outputs": [],
   "source": []
  }
 ],
 "metadata": {
  "kernelspec": {
   "display_name": "Python 3",
   "language": "python",
   "name": "python3"
  },
  "language_info": {
   "codemirror_mode": {
    "name": "ipython",
    "version": 3
   },
   "file_extension": ".py",
   "mimetype": "text/x-python",
   "name": "python",
   "nbconvert_exporter": "python",
   "pygments_lexer": "ipython3",
   "version": "3.7.3"
  }
 },
 "nbformat": 4,
 "nbformat_minor": 4
}
